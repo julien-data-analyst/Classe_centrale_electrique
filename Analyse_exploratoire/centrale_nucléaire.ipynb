{
 "cells": [
  {
   "cell_type": "markdown",
   "metadata": {},
   "source": [
    "# Analyse des installations nucléaires\n",
    "\n",
    "Dans ce jupyter, on va regarder les installations nucléaires, plus particulièrement ceux d'EDF. Pour ce faire, on procédera à la création de plusieurs graphiques et une carte pour observer ces différentes installations. On va tout d'abord installer un environnement virtuel pour installer les librairies nécessaires à l'analyse de ces données."
   ]
  }
 ],
 "metadata": {
  "language_info": {
   "name": "python"
  }
 },
 "nbformat": 4,
 "nbformat_minor": 2
}
